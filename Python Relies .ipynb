{
 "cells": [
  {
   "cell_type": "code",
   "execution_count": null,
   "metadata": {},
   "outputs": [],
   "source": [
    "import pandas as pd\n"
   ]
  },
  {
   "cell_type": "code",
   "execution_count": null,
   "metadata": {},
   "outputs": [],
   "source": [
    "import numpy as np\n"
   ]
  },
  {
   "cell_type": "code",
   "execution_count": null,
   "metadata": {},
   "outputs": [],
   "source": [
    "import matplotlib.pyplot as plt\n"
   ]
  },
  {
   "cell_type": "code",
   "execution_count": null,
   "metadata": {},
   "outputs": [],
   "source": [
    "import seaborn as sns\n"
   ]
  },
  {
   "cell_type": "code",
   "execution_count": null,
   "metadata": {},
   "outputs": [],
   "source": [
    "dataset = pd.read_csv('C:/Users/USER-PC/Desktop/Code Folder/House Price Prediction Model/House Prices Dataset.csv')\n"
   ]
  },
  {
   "cell_type": "code",
   "execution_count": null,
   "metadata": {},
   "outputs": [
    {
     "data": {
      "text/plain": [
       "       longitude  latitude  ...  ocean_proximity  median_house_value\n",
       "0        -122.23     37.88  ...         NEAR BAY              452600\n",
       "1        -122.22     37.86  ...         NEAR BAY              358500\n",
       "2        -122.24     37.85  ...         NEAR BAY              352100\n",
       "3        -122.25     37.85  ...         NEAR BAY              341300\n",
       "4        -122.25     37.85  ...         NEAR BAY              342200\n",
       "...          ...       ...  ...              ...                 ...\n",
       "20635    -121.09     39.48  ...           INLAND               78100\n",
       "20636    -121.21     39.49  ...           INLAND               77100\n",
       "20637    -121.22     39.43  ...           INLAND               92300\n",
       "20638    -121.32     39.43  ...           INLAND               84700\n",
       "20639    -121.24     39.37  ...           INLAND               89400\n",
       "\n",
       "[20640 rows x 10 columns]\n"
      ]
     },
     "metadata": {},
     "output_type": "display_data"
    }
   ],
   "source": [
    "dataset\n"
   ]
  },
  {
   "cell_type": "code",
   "execution_count": null,
   "metadata": {},
   "outputs": [
    {
     "data": {
      "text/plain": [
       "<class 'pandas.core.frame.DataFrame'>\n",
       "RangeIndex: 20640 entries, 0 to 20639\n",
       "Data columns (total 10 columns):\n",
       " #   Column              Non-Null Count  Dtype  \n",
       "---  ------              --------------  -----  \n",
       " 0   longitude           20640 non-null  float64\n",
       " 1   latitude            20640 non-null  float64\n",
       " 2   housing_median_age  20640 non-null  int64  \n",
       " 3   total_rooms         20640 non-null  int64  \n",
       " 4   total_bedrooms      20433 non-null  float64\n",
       " 5   population          20640 non-null  int64  \n",
       " 6   households          20640 non-null  int64  \n",
       " 7   median_income       20640 non-null  float64\n",
       " 8   ocean_proximity     20640 non-null  object \n",
       " 9   median_house_value  20640 non-null  int64  \n",
       "dtypes: float64(4), int64(5), object(1)\n",
       "memory usage: 1.6+ MB\n"
      ]
     },
     "metadata": {},
     "output_type": "display_data"
    }
   ],
   "source": [
    "dataset.info()\n"
   ]
  },
  {
   "cell_type": "code",
   "execution_count": null,
   "metadata": {},
   "outputs": [],
   "source": [
    "dataset.dropna(inplace = True)\n"
   ]
  },
  {
   "cell_type": "code",
   "execution_count": null,
   "metadata": {},
   "outputs": [],
   "source": [
    "from sklearn.model_selection import train_test_split\n"
   ]
  },
  {
   "cell_type": "code",
   "execution_count": null,
   "metadata": {},
   "outputs": [],
   "source": [
    "X = dataset.drop(['median_house_value'], axis=1)\n"
   ]
  },
  {
   "cell_type": "code",
   "execution_count": null,
   "metadata": {},
   "outputs": [],
   "source": [
    "y = dataset['median_house_value']\n"
   ]
  },
  {
   "cell_type": "code",
   "execution_count": null,
   "metadata": {},
   "outputs": [],
   "source": [
    "X_train, X_test, y_train, y_test = train_test_split(X, y, test_size=0.25)\n"
   ]
  },
  {
   "cell_type": "code",
   "execution_count": null,
   "metadata": {},
   "outputs": [],
   "source": [
    "train_data = X_train.join(y_train)\n"
   ]
  },
  {
   "cell_type": "code",
   "execution_count": null,
   "metadata": {},
   "outputs": [],
   "source": [
    "numeric_cols = train_data.select_dtypes(include=[float, int])\n"
   ]
  },
  {
   "cell_type": "code",
   "execution_count": null,
   "metadata": {},
   "outputs": [],
   "source": [
    "corr_matrix = numeric_cols.corr()\n"
   ]
  },
  {
   "cell_type": "code",
   "execution_count": null,
   "metadata": {},
   "outputs": [
    {
     "data": {
      "text/plain": [
       "Axes(0.125,0.11;0.62x0.77)\n"
      ]
     },
     "metadata": {},
     "output_type": "display_data"
    }
   ],
   "source": [
    "sns.heatmap(corr_matrix, annot=True, cmap=\"YlGnBu\")\n"
   ]
  },
  {
   "cell_type": "code",
   "execution_count": null,
   "metadata": {},
   "outputs": [],
   "source": [
    "plt.show()\n"
   ]
  },
  {
   "cell_type": "code",
   "execution_count": null,
   "metadata": {},
   "outputs": [],
   "source": [
    "train_data['total_rooms'] = np.log(train_data['total_rooms']) + 1\n"
   ]
  },
  {
   "cell_type": "code",
   "execution_count": null,
   "metadata": {},
   "outputs": [],
   "source": [
    "train_data['total_bedrooms'] = np.log(train_data['total_bedrooms']) + 1\n"
   ]
  },
  {
   "cell_type": "code",
   "execution_count": null,
   "metadata": {},
   "outputs": [],
   "source": [
    "train_data['population'] = np.log(train_data['population']) + 1\n"
   ]
  },
  {
   "cell_type": "code",
   "execution_count": null,
   "metadata": {},
   "outputs": [],
   "source": [
    "train_data['households'] = np.log(train_data['households']) + 1\n"
   ]
  },
  {
   "cell_type": "code",
   "execution_count": null,
   "metadata": {},
   "outputs": [
    {
     "data": {
      "text/plain": [
       "[[<Axes: title={'center': 'longitude'}>\n",
       "  <Axes: title={'center': 'latitude'}>\n",
       "  <Axes: title={'center': 'housing_median_age'}>]\n",
       " [<Axes: title={'center': 'total_rooms'}>\n",
       "  <Axes: title={'center': 'total_bedrooms'}>\n",
       "  <Axes: title={'center': 'population'}>]\n",
       " [<Axes: title={'center': 'households'}>\n",
       "  <Axes: title={'center': 'median_income'}>\n",
       "  <Axes: title={'center': 'median_house_value'}>]]\n"
      ]
     },
     "metadata": {},
     "output_type": "display_data"
    }
   ],
   "source": [
    "train_data.hist()\n"
   ]
  },
  {
   "cell_type": "code",
   "execution_count": null,
   "metadata": {},
   "outputs": [
    {
     "data": {
      "text/plain": [
       "ocean_proximity\n",
       "<1H OCEAN     6728\n",
       "INLAND        4920\n",
       "NEAR OCEAN    1975\n",
       "NEAR BAY      1697\n",
       "ISLAND           4\n",
       "Name: count, dtype: int64\n"
      ]
     },
     "metadata": {},
     "output_type": "display_data"
    }
   ],
   "source": [
    "train_data.ocean_proximity.value_counts()\n"
   ]
  },
  {
   "cell_type": "code",
   "execution_count": null,
   "metadata": {},
   "outputs": [],
   "source": [
    "dummies = pd.get_dummies(train_data.ocean_proximity)\n"
   ]
  },
  {
   "cell_type": "code",
   "execution_count": null,
   "metadata": {},
   "outputs": [],
   "source": [
    "dummies = dummies.astype(int)\n"
   ]
  },
  {
   "cell_type": "code",
   "execution_count": null,
   "metadata": {},
   "outputs": [
    {
     "data": {
      "text/plain": [
       "       <1H OCEAN  INLAND  ISLAND  NEAR BAY  NEAR OCEAN\n",
       "13729          0       1       0         0           0\n",
       "848            0       0       0         1           0\n",
       "10737          1       0       0         0           0\n",
       "5403           1       0       0         0           0\n",
       "13801          0       1       0         0           0\n",
       "...          ...     ...     ...       ...         ...\n",
       "14515          1       0       0         0           0\n",
       "3710           1       0       0         0           0\n",
       "10926          1       0       0         0           0\n",
       "12726          0       1       0         0           0\n",
       "5771           1       0       0         0           0\n",
       "\n",
       "[15324 rows x 5 columns]\n"
      ]
     },
     "metadata": {},
     "output_type": "display_data"
    }
   ],
   "source": [
    "dummies\n"
   ]
  },
  {
   "cell_type": "code",
   "execution_count": null,
   "metadata": {},
   "outputs": [],
   "source": [
    "train_data = train_data.join(dummies)\n"
   ]
  },
  {
   "cell_type": "code",
   "execution_count": null,
   "metadata": {},
   "outputs": [],
   "source": [
    "train_data = train_data.drop('ocean_proximity', axis=1)\n"
   ]
  },
  {
   "cell_type": "code",
   "execution_count": null,
   "metadata": {},
   "outputs": [
    {
     "data": {
      "text/plain": [
       "       longitude  latitude  housing_median_age  ...  ISLAND  NEAR BAY  NEAR OCEAN\n",
       "13729    -117.17     34.05                  29  ...       0         0           0\n",
       "848      -122.07     37.58                  16  ...       0         1           0\n",
       "10737    -117.91     33.61                  40  ...       0         0           0\n",
       "5403     -118.43     34.03                  36  ...       0         0           0\n",
       "13801    -117.63     34.37                  20  ...       0         0           0\n",
       "\n",
       "[5 rows x 14 columns]\n"
      ]
     },
     "metadata": {},
     "output_type": "display_data"
    }
   ],
   "source": [
    "print(train_data.head())\n"
   ]
  },
  {
   "cell_type": "code",
   "execution_count": null,
   "metadata": {},
   "outputs": [],
   "source": [
    "numeric_cols = train_data.select_dtypes(include=[float, int])\n"
   ]
  },
  {
   "cell_type": "code",
   "execution_count": null,
   "metadata": {},
   "outputs": [],
   "source": [
    "corr_matrix = numeric_cols.corr()\n"
   ]
  },
  {
   "cell_type": "code",
   "execution_count": null,
   "metadata": {},
   "outputs": [
    {
     "data": {
      "text/plain": [
       "Axes(0.125,0.11;0.62x0.77)\n"
      ]
     },
     "metadata": {},
     "output_type": "display_data"
    }
   ],
   "source": [
    "sns.heatmap(corr_matrix, annot=True, cmap=\"YlGnBu\")\n"
   ]
  },
  {
   "cell_type": "code",
   "execution_count": null,
   "metadata": {},
   "outputs": [],
   "source": [
    "plt.show()\n"
   ]
  },
  {
   "cell_type": "code",
   "execution_count": null,
   "metadata": {},
   "outputs": [
    {
     "data": {
      "text/plain": [
       "Figure(640x480)\n"
      ]
     },
     "metadata": {},
     "output_type": "display_data"
    }
   ],
   "source": [
    "plt.figure()\n"
   ]
  },
  {
   "cell_type": "code",
   "execution_count": null,
   "metadata": {},
   "outputs": [
    {
     "data": {
      "text/plain": [
       "Axes(0.125,0.11;0.775x0.77)\n"
      ]
     },
     "metadata": {},
     "output_type": "display_data"
    }
   ],
   "source": [
    "sns.scatterplot(x = 'latitude', y = 'longitude', data = train_data, hue = \"median_house_value\", palette = \"coolwarm\")\n"
   ]
  },
  {
   "cell_type": "code",
   "execution_count": null,
   "metadata": {},
   "outputs": [],
   "source": [
    "plt.show()\n"
   ]
  },
  {
   "cell_type": "code",
   "execution_count": null,
   "metadata": {},
   "outputs": [],
   "source": [
    "from sklearn.linear_model import LinearRegression\n"
   ]
  },
  {
   "cell_type": "code",
   "execution_count": null,
   "metadata": {},
   "outputs": [],
   "source": [
    "X_train, y_train = train_data.drop(['median_house_value'], axis = 1), train_data['median_house_value']\n"
   ]
  },
  {
   "cell_type": "code",
   "execution_count": null,
   "metadata": {},
   "outputs": [],
   "source": [
    "Regressor = LinearRegression()\n"
   ]
  },
  {
   "cell_type": "code",
   "execution_count": null,
   "metadata": {},
   "outputs": [
    {
     "data": {
      "text/plain": [
       "LinearRegression()\n"
      ]
     },
     "metadata": {},
     "output_type": "display_data"
    }
   ],
   "source": [
    "Regressor.fit(X_train, y_train)\n"
   ]
  },
  {
   "cell_type": "code",
   "execution_count": null,
   "metadata": {},
   "outputs": [],
   "source": [
    "test_data = X_test.join(y_test)\n"
   ]
  },
  {
   "cell_type": "code",
   "execution_count": null,
   "metadata": {},
   "outputs": [],
   "source": [
    "test_data['total_rooms'] = np.log(test_data['total_rooms']) + 1\n"
   ]
  },
  {
   "cell_type": "code",
   "execution_count": null,
   "metadata": {},
   "outputs": [],
   "source": [
    "test_data['total_bedrooms'] = np.log(test_data['total_bedrooms']) + 1\n"
   ]
  },
  {
   "cell_type": "code",
   "execution_count": null,
   "metadata": {},
   "outputs": [],
   "source": [
    "test_data['population'] = np.log(test_data['population']) + 1\n"
   ]
  },
  {
   "cell_type": "code",
   "execution_count": null,
   "metadata": {},
   "outputs": [],
   "source": [
    "test_data['households'] = np.log(test_data['households']) + 1\n"
   ]
  },
  {
   "cell_type": "code",
   "execution_count": null,
   "metadata": {},
   "outputs": [],
   "source": [
    "dummies = pd.get_dummies(test_data.ocean_proximity)\n"
   ]
  },
  {
   "cell_type": "code",
   "execution_count": null,
   "metadata": {},
   "outputs": [],
   "source": [
    "dummies = dummies.astype(int)\n"
   ]
  },
  {
   "cell_type": "code",
   "execution_count": null,
   "metadata": {},
   "outputs": [
    {
     "data": {
      "text/plain": [
       "       <1H OCEAN  INLAND  ISLAND  NEAR BAY  NEAR OCEAN\n",
       "12240          0       1       0         0           0\n",
       "9210           0       1       0         0           0\n",
       "15848          0       0       0         1           0\n",
       "6559           0       1       0         0           0\n",
       "18756          0       1       0         0           0\n",
       "...          ...     ...     ...       ...         ...\n",
       "18704          0       1       0         0           0\n",
       "12079          0       1       0         0           0\n",
       "18087          1       0       0         0           0\n",
       "19746          0       1       0         0           0\n",
       "5246           1       0       0         0           0\n",
       "\n",
       "[5109 rows x 5 columns]\n"
      ]
     },
     "metadata": {},
     "output_type": "display_data"
    }
   ],
   "source": [
    "dummies\n"
   ]
  },
  {
   "cell_type": "code",
   "execution_count": null,
   "metadata": {},
   "outputs": [],
   "source": [
    "test_data = test_data.join(dummies)\n"
   ]
  },
  {
   "cell_type": "code",
   "execution_count": null,
   "metadata": {},
   "outputs": [],
   "source": [
    "test_data = test_data.drop('ocean_proximity', axis=1)\n"
   ]
  },
  {
   "cell_type": "code",
   "execution_count": null,
   "metadata": {},
   "outputs": [],
   "source": [
    "X_test, y_test = test_data.drop(['median_house_value'], axis = 1), test_data['median_house_value']\n"
   ]
  },
  {
   "cell_type": "code",
   "execution_count": null,
   "metadata": {},
   "outputs": [
    {
     "data": {
      "text/plain": [
       "       longitude  latitude  housing_median_age  ...  ISLAND  NEAR BAY  NEAR OCEAN\n",
       "12240    -116.96     33.75                  35  ...       0         0           0\n",
       "9210     -119.67     37.27                  13  ...       0         0           0\n",
       "15848    -122.44     37.74                  23  ...       0         1           0\n",
       "6559     -118.13     34.20                  46  ...       0         0           0\n",
       "18756    -122.36     40.68                  28  ...       0         0           0\n",
       "\n",
       "[5 rows x 14 columns]\n"
      ]
     },
     "metadata": {},
     "output_type": "display_data"
    }
   ],
   "source": [
    "print(test_data.head())\n"
   ]
  },
  {
   "cell_type": "code",
   "execution_count": null,
   "metadata": {},
   "outputs": [
    {
     "data": {
      "text/plain": [
       "       longitude  latitude  housing_median_age  ...  ISLAND  NEAR BAY  NEAR OCEAN\n",
       "13729    -117.17     34.05                  29  ...       0         0           0\n",
       "848      -122.07     37.58                  16  ...       0         1           0\n",
       "10737    -117.91     33.61                  40  ...       0         0           0\n",
       "5403     -118.43     34.03                  36  ...       0         0           0\n",
       "13801    -117.63     34.37                  20  ...       0         0           0\n",
       "...          ...       ...                 ...  ...     ...       ...         ...\n",
       "14515    -117.16     32.89                   5  ...       0         0           0\n",
       "3710     -118.38     34.20                  32  ...       0         0           0\n",
       "10926    -117.89     33.74                  32  ...       0         0           0\n",
       "12726    -121.35     38.60                  27  ...       0         0           0\n",
       "5771     -118.27     34.15                  22  ...       0         0           0\n",
       "\n",
       "[15324 rows x 14 columns]\n"
      ]
     },
     "metadata": {},
     "output_type": "display_data"
    }
   ],
   "source": [
    "train_data\n"
   ]
  },
  {
   "cell_type": "code",
   "execution_count": null,
   "metadata": {},
   "outputs": [
    {
     "data": {
      "text/plain": [
       "0.6693823919191628\n"
      ]
     },
     "metadata": {},
     "output_type": "display_data"
    }
   ],
   "source": [
    "Regressor.score(X_test, y_test)\n"
   ]
  },
  {
   "cell_type": "code",
   "execution_count": null,
   "metadata": {},
   "outputs": [],
   "source": []
  }
 ],
 "metadata": {
  "language_info": {
   "name": "python"
  }
 },
 "nbformat": 4,
 "nbformat_minor": 2
}
